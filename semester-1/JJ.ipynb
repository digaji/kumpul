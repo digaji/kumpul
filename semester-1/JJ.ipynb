{
  "nbformat": 4,
  "nbformat_minor": 0,
  "metadata": {
    "colab": {
      "name": "JJ.ipynb",
      "provenance": [],
      "collapsed_sections": []
    },
    "kernelspec": {
      "name": "python3",
      "display_name": "Python 3.8.6 64-bit",
      "metadata": {
        "interpreter": {
          "hash": "bd1ddcf2e8416e81a3681985cad2ac7ac77dc1ab1ca2173f2c6d236459f4aced"
        }
      }
    }
  },
  "cells": [
    {
      "cell_type": "markdown",
      "metadata": {
        "id": "eBYxnz-gaJe1"
      },
      "source": [
        " **QUIZ**"
      ]
    },
    {
      "cell_type": "code",
      "metadata": {
        "colab": {
          "base_uri": "https://localhost:8080/"
        },
        "id": "z3445ONnTWuL",
        "outputId": "4173bdf8-a151-4234-fe42-9cd599968c61"
      },
      "source": [
        "!python --version #I use Python 3.6.9 when creating this quiz"
      ],
      "execution_count": 1,
      "outputs": [
        {
          "output_type": "stream",
          "name": "stdout",
          "text": [
            "Python 3.8.6\n"
          ]
        }
      ]
    },
    {
      "cell_type": "markdown",
      "metadata": {
        "id": "hm9aZw_lgSv3"
      },
      "source": [
        "# **No.1 (8 points)**"
      ]
    },
    {
      "cell_type": "markdown",
      "metadata": {
        "id": "U_OEQT1ZaV43"
      },
      "source": [
        "**Create a function that returns a list of strings sorted by length in ascending order.**\n",
        "\n",
        "**Examples**\n",
        "```\n",
        ">>> sort_by_length([\"a\", \"ccc\", \"dddd\", \"bb\"]) ➞ [\"a\", \"bb\", \"ccc\", \"dddd\"]\n",
        ">>> sort_by_length([\"apple\", \"pie\", \"shortcake\"]) ➞ [\"pie\", \"apple\", \"shortcake\"]\n",
        ">>> sort_by_length([\"may\", \"april\", \"september\", \"august\"]) ➞ [\"may\", \"april\", \"august\", \"september\"]\n",
        ">>> sort_by_length([]) ➞ []\n",
        "```\n",
        "\n",
        "**Notes**:\n",
        "1.   Strings will have unique lengths, so don't worry about comparing two strings with identical length.\n",
        "2.   Return an empty array if the input array is empty (see example #4)."
      ]
    },
    {
      "cell_type": "code",
      "metadata": {
        "id": "cFm5tB5rOBqX"
      },
      "source": [
        "def sort_by_length(lst):\n",
        "    return sorted(lst, key=len)"
      ],
      "execution_count": 2,
      "outputs": []
    },
    {
      "cell_type": "markdown",
      "metadata": {
        "id": "LeIiZvLOa5Vv"
      },
      "source": [
        "**Run code below to check your answer!**"
      ]
    },
    {
      "cell_type": "code",
      "metadata": {
        "id": "hg_Cnolna4qa"
      },
      "source": [
        "assert(sort_by_length([\"a\", \"ccc\", \"dddd\", \"bb\"])==[\"a\", \"bb\", \"ccc\", \"dddd\"])\n",
        "assert(sort_by_length([\"apple\", \"pie\", \"shortcake\"])==[\"pie\", \"apple\", \"shortcake\"])\n",
        "assert(sort_by_length([\"may\", \"april\", \"september\", \"august\"])==[\"may\", \"april\", \"august\", \"september\"])\n",
        "assert(sort_by_length([\"maybe\"])==[\"maybe\"])\n",
        "assert(sort_by_length([])==[])"
      ],
      "execution_count": 3,
      "outputs": []
    },
    {
      "cell_type": "markdown",
      "metadata": {
        "id": "bDiMdRdYgXoR"
      },
      "source": [
        "# **No.2 (9 points)**"
      ]
    },
    {
      "cell_type": "markdown",
      "metadata": {
        "id": "VcHQjfv2ged5"
      },
      "source": [
        "**You are in the midst of creating a typing game. Create a function that takes in two lists: the list of user-typed words, and the list of correctly-typed words and outputs a list containing 1s (correctly-typed words) and -1s (incorrectly-typed words).**\n",
        "\n",
        "```\n",
        "# Inputs:\n",
        "User-typed: [\"cat\", \"blue\", \"skt\", \"umbrells\", \"paddy\"]\n",
        "Correct: [\"cat\", \"blue\", \"sky\", \"umbrella\", \"paddy\"]\n",
        "\n",
        "# Output: [1, 1, -1, -1, 1]\n",
        "```\n",
        "\n",
        "**Examples**\n",
        "```\n",
        "correct_stream(\n",
        "  [\"it\", \"is\", \"find\"],\n",
        "  [\"it\", \"is\", \"fine\"]\n",
        ") ➞ [1, 1, -1]\n",
        "\n",
        "correct_stream(\n",
        "  [\"april\", \"showrs\", \"bring\", \"may\", \"flowers\"],\n",
        "  [\"april\", \"showers\", \"bring\", \"may\", \"flowers\"]\n",
        ") ➞ [1, -1, 1, 1, 1]\n",
        "```\n",
        "\n",
        "**Notes**\n",
        "The input list lengths will always be the same.\n",
        "\n"
      ]
    },
    {
      "cell_type": "code",
      "metadata": {
        "id": "7-7FrKQkg1-l"
      },
      "source": [
        "def correct_stream(user, correct):\n",
        "    output = []\n",
        "    for i, j in zip(user, correct):\n",
        "      if i == j:\n",
        "          output.append(1)\n",
        "      else:\n",
        "          output.append(-1)\n",
        "    return output"
      ],
      "execution_count": 4,
      "outputs": []
    },
    {
      "cell_type": "markdown",
      "metadata": {
        "id": "V1eLH0jog66-"
      },
      "source": [
        "**Run code below to check your answer!**"
      ]
    },
    {
      "cell_type": "code",
      "metadata": {
        "id": "qEWMsMtbg_QC"
      },
      "source": [
        "assert(correct_stream([\"it\", \"is\", \"find\"], [\"it\", \"is\", \"fine\"])==[1, 1, -1])\n",
        "assert(correct_stream([\"april\", \"showrs\", \"bring\", \"may\", \"flowers\"], [\"april\", \"showers\", \"bring\", \"may\", \"flowers\"])==[1, -1, 1, 1, 1])\n",
        "assert(correct_stream([\"weird\", \"indicr\", \"moment\"], [\"weird\", \"indict\", \"moment\"])==[1, -1, 1])\n",
        "assert(correct_stream([\"starry\", \"wind\", \"skies\"], [\"starry\", \"wind\", \"skies\"])==[1, 1, 1])"
      ],
      "execution_count": 5,
      "outputs": []
    },
    {
      "cell_type": "markdown",
      "metadata": {
        "id": "7w2ghVwfhEqC"
      },
      "source": [
        "# **No.3 (8 points)**"
      ]
    },
    {
      "cell_type": "markdown",
      "metadata": {
        "id": "gg9Xp_TZhIMF"
      },
      "source": [
        "Luke Skywalker has family and friends. Help him remind them who is who. Given a string with a name, return the relation of that person to Luke.\n",
        "\n",
        "|Person|Relation|\n",
        "|---|---|\n",
        "|Darth Vader|father|\n",
        "|Leia|sister|\n",
        "|Han|brother in law|\n",
        "|R2D2|droid|\n",
        "\n",
        "Examples\n",
        "```\n",
        "relation_to_luke(\"Darth Vader\") ➞ \"Luke, I am your father.\"\n",
        "relation_to_luke(\"Leia\") ➞ \"Luke, I am your sister.\"\n",
        "relation_to_luke(\"Han\") ➞ \"Luke, I am your brother in law.\"\n",
        "```\n"
      ]
    },
    {
      "cell_type": "code",
      "metadata": {
        "id": "phGT4inqi-NV"
      },
      "source": [
        "def relation_to_luke(person):\n",
        "    message = \"Luke, I am your \"\n",
        "    if person == \"Darth Vader\":\n",
        "        return message + \"father.\"\n",
        "    if person == \"Leia\":\n",
        "        return message + \"sister.\"\n",
        "    if person == \"Han\":\n",
        "        return message + \"brother in law.\"\n",
        "    if person == \"R2D2\":\n",
        "        return message + \"droid.\""
      ],
      "execution_count": 6,
      "outputs": []
    },
    {
      "cell_type": "markdown",
      "metadata": {
        "id": "glEI_Wshj6Fj"
      },
      "source": [
        "**Run code below for your answer**"
      ]
    },
    {
      "cell_type": "code",
      "metadata": {
        "id": "y00fOZjqj_pz"
      },
      "source": [
        "assert(relation_to_luke(\"Darth Vader\")==\"Luke, I am your father.\")\n",
        "assert(relation_to_luke(\"Leia\")==\"Luke, I am your sister.\")\n",
        "assert(relation_to_luke(\"Han\")==\"Luke, I am your brother in law.\")\n",
        "assert(relation_to_luke(\"R2D2\")==\"Luke, I am your droid.\")"
      ],
      "execution_count": 8,
      "outputs": []
    },
    {
      "cell_type": "markdown",
      "metadata": {
        "id": "Kxdc62Jql1_v"
      },
      "source": [
        "# **No.4 (15 points)**"
      ]
    },
    {
      "cell_type": "markdown",
      "metadata": {
        "id": "C91mkCS7l8BC"
      },
      "source": [
        "Below is the Class Diagram for multiple and multilevel inheritance.\n",
        "\n",
        "![Screen Shot 2020-11-25 at 13.30.23.png](data:image/png;base64,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)\n",
        "\n",
        "Based on this Class Diagram, please complete the code below to implement **Encapsulation, Getter Setter, Abstratction (if required), Overiding and Overloading (Polymorphism), and keywords Arguments (kwargs)**\n",
        "**NOTE: Please remember to set all the attributes in all classes are private**\n"
      ]
    },
    {
      "cell_type": "code",
      "metadata": {
        "id": "Y3x9HMafuHKs"
      },
      "source": [
        "# Please complete and fix thiese code below\n",
        "class Shape:\n",
        "    \"\"\"The superclass Shape with a color\"\"\"\n",
        "\n",
        "    def __init__(self, color=\"red\", **kwargs):\n",
        "        self.__color = color\n",
        "\n",
        "    def __str__(self):\n",
        "        return f\"Shape(color={self.__color})\"\n",
        "\n",
        "    def __repr__(self):\n",
        "        return f\"Shape(color={self.__color})\"\n",
        "\n",
        "    @property\n",
        "    def color(self):\n",
        "        return self.__color\n",
        "\n",
        "\n",
        "class Circle(Shape):\n",
        "    \"\"\"The Circle class: a subclass of Shape with a radius\"\"\"\n",
        "\n",
        "    def __init__(self, radius=1.0, color=\"red\"):\n",
        "        super().__init__(color)\n",
        "        self.__radius = float(radius)\n",
        "\n",
        "    def __str__(self):\n",
        "        return \"Circle({}, radius={})\".format(super().__str__(), self.__radius)\n",
        "\n",
        "    def __repr__(self):\n",
        "        return \"Circle({}, radius={})\".format(super().__repr__(), self.__radius)\n",
        "\n",
        "    def get_area(self):\n",
        "        from math import pi\n",
        "\n",
        "        return pi * (self.__radius ** 2)\n",
        "\n",
        "    @property\n",
        "    def radius(self):\n",
        "        return self.__radius\n",
        "\n",
        "\n",
        "class Cylinder(Circle):\n",
        "    \"\"\"The Cylinder class: a subclass of circle with height\"\"\"\n",
        "\n",
        "    def __init__(self, radius=1.0, height=1.0, color=\"red\"):\n",
        "        super().__init__(radius, color)\n",
        "        self.__height = float(height)\n",
        "\n",
        "    def get_area(self):\n",
        "        from math import pi\n",
        "\n",
        "        return (2 * pi * self.radius * self.__height) + (2 * pi * (self.radius ** 2))\n",
        "\n",
        "    def get_volume(self):\n",
        "        return self.get_area() * self.__height\n",
        "\n",
        "    def __str__(self):\n",
        "        return \"Cylinder({}, height={})\".format(super().__str__(), self.__height)\n",
        "\n",
        "    def __repr__(self):\n",
        "        return \"Cylinder({}, height={})\".format(super().__repr__(), self.__height)\n",
        "\n",
        "    @property\n",
        "    def height(self):\n",
        "        return self.__height\n",
        "\n",
        "\n",
        "class Rectangle(Shape):\n",
        "    \"\"\"The Rectangle class: a subclass of Shape wit a length and width\"\"\"\n",
        "\n",
        "    def __init__(self, length=1.0, width=1.0, color=\"red\"):\n",
        "        super().__init__(color)\n",
        "        self.__length = length\n",
        "        self.__width = width\n",
        "\n",
        "    def __str__(self):\n",
        "        return \"Rectangle({}, length={}, width={})\".format(\n",
        "            super().__str__(), self.__length, self.__width\n",
        "        )\n",
        "\n",
        "    def __repr__(self):\n",
        "        return \"Rectangle({}, length={}, width={})\".format(\n",
        "            super().__repr__(), self.__length, self.__width\n",
        "        )\n",
        "\n",
        "    def get_area(self):\n",
        "        return self.__length * self.__width\n",
        "\n",
        "    @property\n",
        "    def length(self):\n",
        "        return self.__length\n",
        "\n",
        "    @property\n",
        "    def width(self):\n",
        "        return self.__width\n",
        "\n",
        "\n",
        "class Square(Rectangle):\n",
        "    \"\"\"The Square class: a subclass of Rectangle having the same length and width\"\"\"\n",
        "\n",
        "    def __init__(self, side, color):\n",
        "        super().__init__(side, side, color)\n",
        "\n",
        "    def __str__(self):\n",
        "        return \"Square({})\".format(super().__str__())\n",
        "\n",
        "    def __repr__(self):\n",
        "        return \"Square({})\".format(super().__repr__())\n"
      ],
      "execution_count": 9,
      "outputs": []
    },
    {
      "cell_type": "markdown",
      "metadata": {
        "id": "-8oiU3HBPph3"
      },
      "source": [
        "**You could use this code to check the MRO**"
      ]
    },
    {
      "cell_type": "code",
      "metadata": {
        "id": "TaqzpoRLPxl6",
        "colab": {
          "base_uri": "https://localhost:8080/"
        },
        "outputId": "62193bcb-cf34-4190-ceb3-cb58abbcacf5"
      },
      "source": [
        "Square.__mro__ "
      ],
      "execution_count": 10,
      "outputs": [
        {
          "output_type": "execute_result",
          "data": {
            "text/plain": [
              "(__main__.Square, __main__.Rectangle, __main__.Shape, object)"
            ]
          },
          "metadata": {},
          "execution_count": 10
        }
      ]
    },
    {
      "cell_type": "markdown",
      "metadata": {
        "id": "fvQ2pwbRbtO5"
      },
      "source": [
        "**Run code below for your answer**"
      ]
    },
    {
      "cell_type": "code",
      "metadata": {
        "id": "hQeJyK33OT9k"
      },
      "source": [
        "#main program\n",
        "s1 = Shape('orange')\n",
        "c1 = Circle(1.2, color='orange')\n",
        "r1 = Rectangle(1.2, 3.4, color='orange')\n",
        "sq1 = Square(5.6, color='blue')\n",
        "\n",
        "assert s1.color == 'orange'\n",
        "assert str(s1) == 'Shape(color=orange)'\n",
        "assert c1.get_area() == 4.523893421169302 # Changed from 4.5216\n",
        "assert c1.color== 'orange'\n",
        "assert c1.radius== 1.2\n",
        "assert str(c1) == 'Circle(Shape(color=orange), radius=1.2)'\n",
        "assert r1.get_area()==4.08\n",
        "assert r1.color=='orange'\n",
        "assert r1.length==1.2\n",
        "assert r1.width==3.4\n",
        "assert str(r1)=='Rectangle(Shape(color=orange), length=1.2, width=3.4)'\n",
        "assert sq1.get_area()==31.359999999999996\n",
        "assert sq1.color =='blue'\n",
        "assert sq1.length==5.6\n",
        "assert sq1.width ==5.6\n",
        "assert str(sq1)=='Square(Rectangle(Shape(color=blue), length=5.6, width=5.6))'\n",
        "\n"
      ],
      "execution_count": 11,
      "outputs": []
    },
    {
      "cell_type": "markdown",
      "metadata": {
        "id": "YgUQNStBcaAY"
      },
      "source": [
        "# **No.5 (20 Points)**"
      ]
    },
    {
      "cell_type": "markdown",
      "metadata": {
        "id": "RRR5Hu82dmpD"
      },
      "source": [
        "we will implement independent classes, a \"Clock\" and a \"Calendar\" class to create another class \"CalendarClock\", which is, as the name implies, a combination of \"Clock\" and \"Calendar\". CalendarClock inherits both from \"Clock\" and \"Calendar\".\n",
        "\n",
        "The class Clock simulates the tick-tack of a clock. An instance of this class contains the time, which is stored in the attributes self.hours, self.minutes and self.seconds. Principally, we could have written the __init__ method and the set method like this:\n",
        "\n",
        "```\n",
        "def __init__(self,hours=0, minutes=0, seconds=0):\n",
        "  self._hours = hours\n",
        "  self.__minutes = minutes\n",
        "  self.__seconds = seconds\n",
        "\n",
        "def set(self,hours, minutes, seconds=0):\n",
        "  self._hours = hours\n",
        "  self.__minutes = minutes\n",
        "  self.__seconds = seconds\n",
        "```\n",
        "We decided against this implementation, because we added additional code for checking the plausibility of the time data into the set method. We call the set method from the __init__ method as well, because we want to circumvent redundant code. The complete Clock class:\n",
        "\n",
        "**Task1**: Please help me to complete the Clock class code below:"
      ]
    },
    {
      "cell_type": "code",
      "metadata": {
        "id": "DgTZiFrzelhL"
      },
      "source": [
        "\"\"\" \n",
        "The class Clock is used to simulate a clock.\n",
        "\"\"\"\n",
        "\n",
        "class Clock(object):\n",
        "\n",
        "    def __init__(self, hours, minutes, seconds):\n",
        "        \"\"\"\n",
        "        The paramaters hours, minutes and seconds have to be \n",
        "        integers and must satisfy the following equations:\n",
        "        0 <= h < 24\n",
        "        0 <= m < 60\n",
        "        0 <= s < 60\n",
        "        \"\"\"\n",
        "        self.set_Clock(hours, minutes, seconds)\n",
        "\n",
        "    def set_Clock(self, hours, minutes, seconds):\n",
        "        \"\"\"\n",
        "        The parameters hours, minutes and seconds have to be \n",
        "        integers and must satisfy the following equations:\n",
        "        0 <= h < 24\n",
        "        0 <= m < 60\n",
        "        0 <= s < 60\n",
        "        \"\"\"\n",
        "        if isinstance(hours, int) and 0 <= hours and hours < 24:\n",
        "            self._hours = hours\n",
        "        else:\n",
        "            raise ValueError\n",
        "        if isinstance(minutes, int) and 0 <= minutes and minutes < 60:\n",
        "            self.__minutes = minutes\n",
        "        else:\n",
        "            raise ValueError\n",
        "        if isinstance(seconds, int) and 0 <= seconds and seconds < 60:\n",
        "            self.__seconds = seconds\n",
        "        else:\n",
        "            raise ValueError\n",
        "\n",
        "    def __str__(self):\n",
        "        return \"{0:02d}:{1:02d}:{2:02d}\".format(self._hours,\n",
        "                                                self.__minutes,\n",
        "                                                self.__seconds)\n",
        "\n",
        "    def tick(self):\n",
        "        \"\"\"\n",
        "        This method lets the clock \"tick\", this means that the \n",
        "        internal time will be advanced by one second.\n",
        "\n",
        "        Examples:\n",
        "        >>> x = Clock(12,59,59)\n",
        "        >>> print(x)\n",
        "        12:59:59\n",
        "        >>> x.tick()\n",
        "        >>> print(x)\n",
        "        13:00:00\n",
        "        >>> x.tick()\n",
        "        >>> print(x)\n",
        "        13:00:01\n",
        "        \"\"\"\n",
        "\n",
        "        self.__seconds += 1\n",
        "        if self.__seconds == 60:\n",
        "            self.__seconds = 0\n",
        "            self.__minutes += 1\n",
        "            if self.__minutes == 60:\n",
        "                self.__minutes = 0\n",
        "                self._hours +=1\n",
        "                if self._hours == 24:\n",
        "                    self._hours = 0\n",
        "\n"
      ],
      "execution_count": 12,
      "outputs": []
    },
    {
      "cell_type": "markdown",
      "metadata": {
        "id": "EZX2THHmfPxE"
      },
      "source": [
        "For class \"Calendar\", instead of \"tick\" we have an \"advance\" method, which advances the date by one day, whenever it is called. \n",
        "\n",
        "Adding a day to a date is quite tricky. We have to check, if the date is the last day in a month and the number of days in the months vary. As if this isn't bad enough, we have February and the leap year problem.\n",
        "\n",
        "The rules for calculating a leap year are the following:\n",
        "*   If a year is divisible by 400, it is a leap year.\n",
        "*   If a year is not divisible by 400 but by 100, it is not a leap year.\n",
        "*   A year number which is divisible by 4 but not by 100, it is a leap year.\n",
        "*   All other year numbers are common years, i.e. no leap years.\n",
        "\n",
        "As a little useful gimmick, we added a possibility to output a date either in British or in American (Canadian) style.\n",
        "\n",
        "**Task2**: Please help me to complete the Calendar class code below:"
      ]
    },
    {
      "cell_type": "code",
      "metadata": {
        "id": "eD-Ic_KEfQbU"
      },
      "source": [
        "\"\"\" \n",
        "The class Calendar implements a calendar.   \n",
        "\"\"\"\n",
        "\n",
        "\n",
        "class Calendar(object):\n",
        "\n",
        "    months = (31, 28, 31, 30, 31, 30, 31, 31, 30, 31, 30, 31)\n",
        "    date_style = \"British\"\n",
        "\n",
        "    @staticmethod\n",
        "    def leapyear(year):\n",
        "        \"\"\"\n",
        "        The method leapyear returns True if the parameter year\n",
        "        is a leap year, False otherwise\n",
        "        \"\"\"\n",
        "        if year % 400 == 0:\n",
        "            return True\n",
        "        elif year % 100 == 0:\n",
        "            return False\n",
        "        elif year % 4 == 0:\n",
        "            return True\n",
        "        else:\n",
        "            return False\n",
        "\n",
        "    def __init__(self, d, m, y):\n",
        "        self.set_Calendar(d, m, y)\n",
        "\n",
        "    def set_Calendar(self, d, m, y):\n",
        "        \"\"\"\n",
        "        d, m, y have to be integer values and year has to be\n",
        "        a four digit year number\n",
        "        \"\"\"\n",
        "\n",
        "        if isinstance(d, int) and isinstance(m, int):\n",
        "            self.__days = d\n",
        "            self.__months = m\n",
        "        else:\n",
        "            raise TypeError\n",
        "        if isinstance(y, int) and len(str(y)) == 4:\n",
        "            self.__years = y\n",
        "        else:\n",
        "            raise TypeError\n",
        "\n",
        "    def __str__(self):\n",
        "        \"\"\" Britist format: dd/mm/yyyy, American format: mm/dd/yyyy\"\"\"\n",
        "        if self.date_style == \"British\":\n",
        "            return f\"{self.__days:02d}/{self.__months:02d}/{self.__years:4d}\"\n",
        "        if self.date_style == \"American\":\n",
        "            return f\"{self.__months:02d}/{self.__days:02d}/{self.__years:4d}\"\n",
        "\n",
        "    def advance(self):\n",
        "        \"\"\"\n",
        "        This method advances to the next date.\n",
        "        \"\"\"\n",
        "\n",
        "        max_days = Calendar.months[self.__months - 1]\n",
        "        if self.__months == 2 and Calendar.leapyear(self.__years):\n",
        "            max_days += 1\n",
        "        if self.__days == max_days:\n",
        "            self.__days = 1\n",
        "            if self.__months == 12:\n",
        "                self.__months = 1\n",
        "                self.__years += 1\n",
        "            else:\n",
        "                self.__months += 1\n",
        "        else:\n",
        "            self.__days += 1\n"
      ],
      "execution_count": 13,
      "outputs": []
    },
    {
      "cell_type": "markdown",
      "metadata": {
        "id": "A0sRUTbQlx6C"
      },
      "source": [
        "Now, We lets implementing  class CalendarClock, which will have  both Clock and Calendar functionality. The method **\"tick\" of Clock will have to be overridden**. However, the new tick method of CalendarClock has to call the tick method of Clock: Clock.tick(self)"
      ]
    },
    {
      "cell_type": "code",
      "metadata": {
        "id": "NWVBno5xfZIp"
      },
      "source": [
        "class CalendarClock(Clock, Calendar):\n",
        "    \"\"\"\n",
        "    The class CalendarClock implements a clock with integrated\n",
        "    calendar. It's a case of multiple inheritance, as it inherits\n",
        "    both from Clock and Calendar\n",
        "    \"\"\"\n",
        "\n",
        "    def __init__(self, day, month, year, hour, minute, second):\n",
        "        super().__init__(hour, minute, second)\n",
        "        Calendar.__init__(self, day, month, year)\n",
        "\n",
        "    def __str__(self):\n",
        "        return Calendar.__str__(self) + \", \" + Clock.__str__(self)\n",
        "\n",
        "    def tick(self):\n",
        "        oriHour = self._hours\n",
        "        Clock.tick(self)\n",
        "        if oriHour > self._hours:\n",
        "            self.advance()\n"
      ],
      "execution_count": 14,
      "outputs": []
    },
    {
      "cell_type": "markdown",
      "metadata": {
        "id": "sXzLFg0TmQpl"
      },
      "source": [
        "**Run your code here:**"
      ]
    },
    {
      "cell_type": "code",
      "metadata": {
        "id": "gRCvhcLRmTh9",
        "colab": {
          "base_uri": "https://localhost:8080/"
        },
        "outputId": "e15ee081-8cc1-4daa-abb6-e20fbf25195e"
      },
      "source": [
        "x = CalendarClock(31, 12, 2013, 23, 59, 59)\n",
        "print(\"One tick from \",x, end=\" \")\n",
        "x.tick()\n",
        "print(\"to \", x)\n",
        "\n",
        "x = CalendarClock(28, 2, 1900, 23, 59, 59)\n",
        "print(\"One tick from \",x, end=\" \")\n",
        "x.tick()\n",
        "print(\"to \", x)\n",
        "\n",
        "x = CalendarClock(28, 2, 2000, 23, 59, 59)\n",
        "print(\"One tick from \",x, end=\" \")\n",
        "x.tick()\n",
        "print(\"to \", x)\n",
        "\n",
        "x = CalendarClock(7, 2, 2013, 13, 55, 40)\n",
        "print(\"One tick from \",x, end=\" \")\n",
        "x.tick()\n",
        "print(\"to \", x)"
      ],
      "execution_count": 15,
      "outputs": [
        {
          "output_type": "stream",
          "name": "stdout",
          "text": [
            "One tick from  31/12/2013, 23:59:59 to  01/01/2014, 00:00:00\nOne tick from  28/02/1900, 23:59:59 to  01/03/1900, 00:00:00\nOne tick from  28/02/2000, 23:59:59 to  29/02/2000, 00:00:00\nOne tick from  07/02/2013, 13:55:40 to  07/02/2013, 13:55:41\n"
          ]
        }
      ]
    }
  ]
}